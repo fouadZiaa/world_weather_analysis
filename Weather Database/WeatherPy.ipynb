{
 "cells": [
  {
   "cell_type": "code",
   "execution_count": 1,
   "id": "934c420e",
   "metadata": {},
   "outputs": [],
   "source": [
    "import pandas as pd\n",
    "import matplotlib.pyplot as plt\n",
    "import numpy as np\n",
    "from citipy import citipy\n",
    "import requests\n",
    "from citipy import citipy\n",
    "from config import weather_api_key\n",
    "from datetime import datetime"
   ]
  },
  {
   "cell_type": "code",
   "execution_count": 2,
   "id": "90e9ad42",
   "metadata": {},
   "outputs": [
    {
     "data": {
      "text/plain": [
       "<zip at 0x7fa2fa5fcdc0>"
      ]
     },
     "execution_count": 2,
     "metadata": {},
     "output_type": "execute_result"
    }
   ],
   "source": [
    "lats = np.random.uniform(low=-90.000, high=90.000, size = 2000)\n",
    "lngs = np.random.uniform(low=-180.000, high=180.000, size = 2000)\n",
    "lats_lngs = zip(lats, lngs)\n",
    "lats_lngs"
   ]
  },
  {
   "cell_type": "code",
   "execution_count": 3,
   "id": "948c73c2",
   "metadata": {},
   "outputs": [
    {
     "data": {
      "text/plain": [
       "768"
      ]
     },
     "execution_count": 3,
     "metadata": {},
     "output_type": "execute_result"
    }
   ],
   "source": [
    "coordinates = list(lats_lngs)\n",
    "cities = []\n",
    "# Identify the nearest city for each latitude and longitude combination.\n",
    "for coordinate in coordinates:\n",
    "    city = citipy.nearest_city(coordinate[0], coordinate[1]).city_name\n",
    "\n",
    "    # If the city is unique, then we will add it to the cities list.\n",
    "    if city not in cities:\n",
    "        cities.append(city)\n",
    "# Print the city count to confirm sufficient count.\n",
    "len(cities)"
   ]
  },
  {
   "cell_type": "code",
   "execution_count": 4,
   "id": "39f0ccc6",
   "metadata": {},
   "outputs": [
    {
     "data": {
      "text/plain": [
       "['ushuaia', 'honiara', 'rikitea', 'aykhal', 'busselton']"
      ]
     },
     "execution_count": 4,
     "metadata": {},
     "output_type": "execute_result"
    }
   ],
   "source": [
    "cities[0:5]"
   ]
  },
  {
   "cell_type": "code",
   "execution_count": 5,
   "id": "bef7c718",
   "metadata": {},
   "outputs": [
    {
     "name": "stdout",
     "output_type": "stream",
     "text": [
      "http://api.openweathermap.org/data/2.5/weather?&units=imperial&appid=0c95010018f254d913dc916cf027dded\n"
     ]
    }
   ],
   "source": [
    "url = 'http://api.openweathermap.org/data/2.5/weather?&units=imperial&appid=' + weather_api_key \n",
    "print(url)"
   ]
  },
  {
   "cell_type": "code",
   "execution_count": 6,
   "id": "f62ff666",
   "metadata": {},
   "outputs": [],
   "source": [
    "r = requests.get(url + \"&q=\" + cities[13].replace(\" \",\"+\") ).json()"
   ]
  },
  {
   "cell_type": "code",
   "execution_count": 7,
   "id": "f0615b32",
   "metadata": {},
   "outputs": [
    {
     "data": {
      "text/plain": [
       "{'coord': {'lon': -22.4338, 'lat': 63.8424},\n",
       " 'weather': [{'id': 803,\n",
       "   'main': 'Clouds',\n",
       "   'description': 'broken clouds',\n",
       "   'icon': '04d'}],\n",
       " 'base': 'stations',\n",
       " 'main': {'temp': 55.87,\n",
       "  'feels_like': 55,\n",
       "  'temp_min': 55.35,\n",
       "  'temp_max': 55.87,\n",
       "  'pressure': 1018,\n",
       "  'humidity': 82},\n",
       " 'visibility': 10000,\n",
       " 'wind': {'speed': 8.05, 'deg': 160},\n",
       " 'clouds': {'all': 75},\n",
       " 'dt': 1658509190,\n",
       " 'sys': {'type': 1,\n",
       "  'id': 90,\n",
       "  'country': 'IS',\n",
       "  'sunrise': 1658462900,\n",
       "  'sunset': 1658531020},\n",
       " 'timezone': 0,\n",
       " 'id': 3416888,\n",
       " 'name': 'Grindavik',\n",
       " 'cod': 200}"
      ]
     },
     "execution_count": 7,
     "metadata": {},
     "output_type": "execute_result"
    }
   ],
   "source": [
    "r"
   ]
  },
  {
   "cell_type": "code",
   "execution_count": 8,
   "id": "787096fa",
   "metadata": {},
   "outputs": [
    {
     "name": "stdout",
     "output_type": "stream",
     "text": [
      "61 cities skipped.\n",
      "data for 707 cities acquired \n"
     ]
    }
   ],
   "source": [
    "city_data = []\n",
    "skip_count = 0\n",
    "# Loop through all the cities in the list.\n",
    "for i, city in enumerate(cities):\n",
    "    # Create endpoint URL with each city.\n",
    "    city_url = url + \"&q=\" + city.replace(\" \",\"+\")\n",
    "    # Run an API request for each of the cities.\n",
    "    try:\n",
    "        # Parse the JSON and retrieve data.\n",
    "        city_weather = requests.get(city_url).json()\n",
    "        # Parse out the needed data.\n",
    "        city_lat = city_weather[\"coord\"][\"lat\"]\n",
    "        city_lng = city_weather[\"coord\"][\"lon\"]\n",
    "        city_max_temp = city_weather[\"main\"][\"temp_max\"]\n",
    "        city_humidity = city_weather[\"main\"][\"humidity\"]\n",
    "        city_clouds = city_weather[\"clouds\"][\"all\"]\n",
    "        city_wind = city_weather[\"wind\"][\"speed\"]\n",
    "        city_country = city_weather[\"sys\"][\"country\"]\n",
    "        city_weather_description = city_weather['weather'][0]['description']\n",
    "        # Convert the date to ISO standard.\n",
    "        city_date = datetime.utcfromtimestamp(city_weather[\"dt\"]).strftime('%Y-%m-%d %H:%M:%S')\n",
    "        # Append the city information into city_data list.\n",
    "        city_data.append({\"City\": city.title(),\n",
    "                          \"Country\": city_country,\n",
    "                          \"Lat\": city_lat,\n",
    "                          \"Lng\": city_lng,\n",
    "                          \"Max Temp\": city_max_temp,\n",
    "                          \"Humidity\": city_humidity,\n",
    "                          \"Cloudiness\": city_clouds,\n",
    "                          \"Wind Speed\": city_wind,\n",
    "                          \"Current Description\": city_weather_description})\n",
    "\n",
    "# If an error is experienced, skip the city.\n",
    "    except:\n",
    "        skip_count += 1\n",
    "        continue\n",
    "# print api summary notes.\n",
    "print('{} cities skipped.'.format(skip_count)) \n",
    "print('data for {} cities acquired '.format(len(city_data)))"
   ]
  },
  {
   "cell_type": "code",
   "execution_count": 9,
   "id": "79b5aca6",
   "metadata": {},
   "outputs": [
    {
     "data": {
      "text/html": [
       "<div>\n",
       "<style scoped>\n",
       "    .dataframe tbody tr th:only-of-type {\n",
       "        vertical-align: middle;\n",
       "    }\n",
       "\n",
       "    .dataframe tbody tr th {\n",
       "        vertical-align: top;\n",
       "    }\n",
       "\n",
       "    .dataframe thead th {\n",
       "        text-align: right;\n",
       "    }\n",
       "</style>\n",
       "<table border=\"1\" class=\"dataframe\">\n",
       "  <thead>\n",
       "    <tr style=\"text-align: right;\">\n",
       "      <th></th>\n",
       "      <th>City</th>\n",
       "      <th>Country</th>\n",
       "      <th>Lat</th>\n",
       "      <th>Lng</th>\n",
       "      <th>Max Temp</th>\n",
       "      <th>Humidity</th>\n",
       "      <th>Cloudiness</th>\n",
       "      <th>Wind Speed</th>\n",
       "      <th>Current Description</th>\n",
       "    </tr>\n",
       "  </thead>\n",
       "  <tbody>\n",
       "    <tr>\n",
       "      <th>0</th>\n",
       "      <td>Ushuaia</td>\n",
       "      <td>AR</td>\n",
       "      <td>-54.8000</td>\n",
       "      <td>-68.3000</td>\n",
       "      <td>35.26</td>\n",
       "      <td>93</td>\n",
       "      <td>100</td>\n",
       "      <td>32.21</td>\n",
       "      <td>sleet</td>\n",
       "    </tr>\n",
       "    <tr>\n",
       "      <th>1</th>\n",
       "      <td>Honiara</td>\n",
       "      <td>SB</td>\n",
       "      <td>-9.4333</td>\n",
       "      <td>159.9500</td>\n",
       "      <td>76.14</td>\n",
       "      <td>85</td>\n",
       "      <td>39</td>\n",
       "      <td>3.02</td>\n",
       "      <td>scattered clouds</td>\n",
       "    </tr>\n",
       "    <tr>\n",
       "      <th>2</th>\n",
       "      <td>Rikitea</td>\n",
       "      <td>PF</td>\n",
       "      <td>-23.1203</td>\n",
       "      <td>-134.9692</td>\n",
       "      <td>72.61</td>\n",
       "      <td>75</td>\n",
       "      <td>99</td>\n",
       "      <td>7.70</td>\n",
       "      <td>overcast clouds</td>\n",
       "    </tr>\n",
       "    <tr>\n",
       "      <th>3</th>\n",
       "      <td>Aykhal</td>\n",
       "      <td>RU</td>\n",
       "      <td>66.0000</td>\n",
       "      <td>111.5000</td>\n",
       "      <td>53.19</td>\n",
       "      <td>84</td>\n",
       "      <td>64</td>\n",
       "      <td>2.39</td>\n",
       "      <td>broken clouds</td>\n",
       "    </tr>\n",
       "    <tr>\n",
       "      <th>4</th>\n",
       "      <td>Busselton</td>\n",
       "      <td>AU</td>\n",
       "      <td>-33.6500</td>\n",
       "      <td>115.3333</td>\n",
       "      <td>58.93</td>\n",
       "      <td>81</td>\n",
       "      <td>29</td>\n",
       "      <td>17.07</td>\n",
       "      <td>scattered clouds</td>\n",
       "    </tr>\n",
       "  </tbody>\n",
       "</table>\n",
       "</div>"
      ],
      "text/plain": [
       "        City Country      Lat       Lng  Max Temp  Humidity  Cloudiness  \\\n",
       "0    Ushuaia      AR -54.8000  -68.3000     35.26        93         100   \n",
       "1    Honiara      SB  -9.4333  159.9500     76.14        85          39   \n",
       "2    Rikitea      PF -23.1203 -134.9692     72.61        75          99   \n",
       "3     Aykhal      RU  66.0000  111.5000     53.19        84          64   \n",
       "4  Busselton      AU -33.6500  115.3333     58.93        81          29   \n",
       "\n",
       "   Wind Speed Current Description  \n",
       "0       32.21               sleet  \n",
       "1        3.02    scattered clouds  \n",
       "2        7.70     overcast clouds  \n",
       "3        2.39       broken clouds  \n",
       "4       17.07    scattered clouds  "
      ]
     },
     "execution_count": 9,
     "metadata": {},
     "output_type": "execute_result"
    }
   ],
   "source": [
    "city_data_df = pd.DataFrame(city_data)\n",
    "city_data_df.head()"
   ]
  },
  {
   "cell_type": "code",
   "execution_count": 10,
   "id": "82f88d8e",
   "metadata": {},
   "outputs": [],
   "source": [
    "city_data_df.to_csv('WeatherPy_Database.csv',index_label='City_ID')"
   ]
  },
  {
   "cell_type": "code",
   "execution_count": null,
   "id": "9561dbd5",
   "metadata": {},
   "outputs": [],
   "source": []
  }
 ],
 "metadata": {
  "kernelspec": {
   "display_name": "Python 3 (ipykernel)",
   "language": "python",
   "name": "python3"
  },
  "language_info": {
   "codemirror_mode": {
    "name": "ipython",
    "version": 3
   },
   "file_extension": ".py",
   "mimetype": "text/x-python",
   "name": "python",
   "nbconvert_exporter": "python",
   "pygments_lexer": "ipython3",
   "version": "3.9.7"
  }
 },
 "nbformat": 4,
 "nbformat_minor": 5
}
